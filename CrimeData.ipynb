{
 "cells": [
  {
   "cell_type": "code",
   "execution_count": 1,
   "id": "e4927158",
   "metadata": {},
   "outputs": [],
   "source": [
    "import pandas as pd\n",
    "import numpy as np \n",
    "import seaborn as sns"
   ]
  },
  {
   "cell_type": "code",
   "execution_count": 2,
   "id": "c3da8325",
   "metadata": {},
   "outputs": [
    {
     "name": "stderr",
     "output_type": "stream",
     "text": [
      "C:\\Users\\Devangi\\AppData\\Local\\Temp\\ipykernel_6840\\3344383920.py:1: DtypeWarning: Columns (9,10) have mixed types. Specify dtype option on import or set low_memory=False.\n",
      "  df = pd.read_csv(\"CrimeData.csv\")\n"
     ]
    },
    {
     "data": {
      "text/html": [
       "<div>\n",
       "<style scoped>\n",
       "    .dataframe tbody tr th:only-of-type {\n",
       "        vertical-align: middle;\n",
       "    }\n",
       "\n",
       "    .dataframe tbody tr th {\n",
       "        vertical-align: top;\n",
       "    }\n",
       "\n",
       "    .dataframe thead th {\n",
       "        text-align: right;\n",
       "    }\n",
       "</style>\n",
       "<table border=\"1\" class=\"dataframe\">\n",
       "  <thead>\n",
       "    <tr style=\"text-align: right;\">\n",
       "      <th></th>\n",
       "      <th>Unnamed: 0</th>\n",
       "      <th>ID</th>\n",
       "      <th>Case Number</th>\n",
       "      <th>Date</th>\n",
       "      <th>Block</th>\n",
       "      <th>IUCR</th>\n",
       "      <th>Primary Type</th>\n",
       "      <th>Description</th>\n",
       "      <th>Location Description</th>\n",
       "      <th>Arrest</th>\n",
       "      <th>...</th>\n",
       "      <th>Ward</th>\n",
       "      <th>Community Area</th>\n",
       "      <th>FBI Code</th>\n",
       "      <th>X Coordinate</th>\n",
       "      <th>Y Coordinate</th>\n",
       "      <th>Year</th>\n",
       "      <th>Updated On</th>\n",
       "      <th>Latitude</th>\n",
       "      <th>Longitude</th>\n",
       "      <th>Location</th>\n",
       "    </tr>\n",
       "  </thead>\n",
       "  <tbody>\n",
       "    <tr>\n",
       "      <th>0</th>\n",
       "      <td>3.0</td>\n",
       "      <td>10508693.0</td>\n",
       "      <td>HZ250496</td>\n",
       "      <td>5/3/2016 23:40</td>\n",
       "      <td>013XX S SAWYER AVE</td>\n",
       "      <td>486</td>\n",
       "      <td>BATTERY</td>\n",
       "      <td>DOMESTIC BATTERY SIMPLE</td>\n",
       "      <td>APARTMENT</td>\n",
       "      <td>True</td>\n",
       "      <td>...</td>\n",
       "      <td>24.0</td>\n",
       "      <td>29.0</td>\n",
       "      <td>08B</td>\n",
       "      <td>1154907.0</td>\n",
       "      <td>1893681.0</td>\n",
       "      <td>2016.0</td>\n",
       "      <td>5/10/2016 15:56</td>\n",
       "      <td>41.864073</td>\n",
       "      <td>-87.706819</td>\n",
       "      <td>(41.864073157, -87.706818608)</td>\n",
       "    </tr>\n",
       "    <tr>\n",
       "      <th>1</th>\n",
       "      <td>89.0</td>\n",
       "      <td>10508695.0</td>\n",
       "      <td>HZ250409</td>\n",
       "      <td>5/3/2016 21:40</td>\n",
       "      <td>061XX S DREXEL AVE</td>\n",
       "      <td>486</td>\n",
       "      <td>BATTERY</td>\n",
       "      <td>DOMESTIC BATTERY SIMPLE</td>\n",
       "      <td>RESIDENCE</td>\n",
       "      <td>False</td>\n",
       "      <td>...</td>\n",
       "      <td>20.0</td>\n",
       "      <td>42.0</td>\n",
       "      <td>08B</td>\n",
       "      <td>1183066.0</td>\n",
       "      <td>1864330.0</td>\n",
       "      <td>2016.0</td>\n",
       "      <td>5/10/2016 15:56</td>\n",
       "      <td>41.782922</td>\n",
       "      <td>-87.604363</td>\n",
       "      <td>(41.782921527, -87.60436317)</td>\n",
       "    </tr>\n",
       "    <tr>\n",
       "      <th>2</th>\n",
       "      <td>197.0</td>\n",
       "      <td>10508697.0</td>\n",
       "      <td>HZ250503</td>\n",
       "      <td>5/3/2016 23:31</td>\n",
       "      <td>053XX W CHICAGO AVE</td>\n",
       "      <td>470</td>\n",
       "      <td>PUBLIC PEACE VIOLATION</td>\n",
       "      <td>RECKLESS CONDUCT</td>\n",
       "      <td>STREET</td>\n",
       "      <td>False</td>\n",
       "      <td>...</td>\n",
       "      <td>37.0</td>\n",
       "      <td>25.0</td>\n",
       "      <td>24</td>\n",
       "      <td>1140789.0</td>\n",
       "      <td>1904819.0</td>\n",
       "      <td>2016.0</td>\n",
       "      <td>5/10/2016 15:56</td>\n",
       "      <td>41.894908</td>\n",
       "      <td>-87.758372</td>\n",
       "      <td>(41.894908283, -87.758371958)</td>\n",
       "    </tr>\n",
       "    <tr>\n",
       "      <th>3</th>\n",
       "      <td>673.0</td>\n",
       "      <td>10508698.0</td>\n",
       "      <td>HZ250424</td>\n",
       "      <td>5/3/2016 22:10</td>\n",
       "      <td>049XX W FULTON ST</td>\n",
       "      <td>460</td>\n",
       "      <td>BATTERY</td>\n",
       "      <td>SIMPLE</td>\n",
       "      <td>SIDEWALK</td>\n",
       "      <td>False</td>\n",
       "      <td>...</td>\n",
       "      <td>28.0</td>\n",
       "      <td>25.0</td>\n",
       "      <td>08B</td>\n",
       "      <td>1143223.0</td>\n",
       "      <td>1901475.0</td>\n",
       "      <td>2016.0</td>\n",
       "      <td>5/10/2016 15:56</td>\n",
       "      <td>41.885687</td>\n",
       "      <td>-87.749516</td>\n",
       "      <td>(41.885686845, -87.749515983)</td>\n",
       "    </tr>\n",
       "    <tr>\n",
       "      <th>4</th>\n",
       "      <td>911.0</td>\n",
       "      <td>10508699.0</td>\n",
       "      <td>HZ250455</td>\n",
       "      <td>5/3/2016 22:00</td>\n",
       "      <td>003XX N LOTUS AVE</td>\n",
       "      <td>820</td>\n",
       "      <td>THEFT</td>\n",
       "      <td>$500 AND UNDER</td>\n",
       "      <td>RESIDENCE</td>\n",
       "      <td>False</td>\n",
       "      <td>...</td>\n",
       "      <td>28.0</td>\n",
       "      <td>25.0</td>\n",
       "      <td>6</td>\n",
       "      <td>1139890.0</td>\n",
       "      <td>1901675.0</td>\n",
       "      <td>2016.0</td>\n",
       "      <td>5/10/2016 15:56</td>\n",
       "      <td>41.886297</td>\n",
       "      <td>-87.761751</td>\n",
       "      <td>(41.886297242, -87.761750709)</td>\n",
       "    </tr>\n",
       "  </tbody>\n",
       "</table>\n",
       "<p>5 rows × 23 columns</p>\n",
       "</div>"
      ],
      "text/plain": [
       "   Unnamed: 0          ID Case Number            Date                Block  \\\n",
       "0         3.0  10508693.0    HZ250496  5/3/2016 23:40   013XX S SAWYER AVE   \n",
       "1        89.0  10508695.0    HZ250409  5/3/2016 21:40   061XX S DREXEL AVE   \n",
       "2       197.0  10508697.0    HZ250503  5/3/2016 23:31  053XX W CHICAGO AVE   \n",
       "3       673.0  10508698.0    HZ250424  5/3/2016 22:10    049XX W FULTON ST   \n",
       "4       911.0  10508699.0    HZ250455  5/3/2016 22:00    003XX N LOTUS AVE   \n",
       "\n",
       "  IUCR            Primary Type              Description Location Description  \\\n",
       "0  486                 BATTERY  DOMESTIC BATTERY SIMPLE            APARTMENT   \n",
       "1  486                 BATTERY  DOMESTIC BATTERY SIMPLE            RESIDENCE   \n",
       "2  470  PUBLIC PEACE VIOLATION         RECKLESS CONDUCT               STREET   \n",
       "3  460                 BATTERY                   SIMPLE             SIDEWALK   \n",
       "4  820                   THEFT           $500 AND UNDER            RESIDENCE   \n",
       "\n",
       "  Arrest  ...  Ward  Community Area  FBI Code  X Coordinate  Y Coordinate  \\\n",
       "0   True  ...  24.0            29.0       08B     1154907.0     1893681.0   \n",
       "1  False  ...  20.0            42.0       08B     1183066.0     1864330.0   \n",
       "2  False  ...  37.0            25.0        24     1140789.0     1904819.0   \n",
       "3  False  ...  28.0            25.0       08B     1143223.0     1901475.0   \n",
       "4  False  ...  28.0            25.0         6     1139890.0     1901675.0   \n",
       "\n",
       "     Year       Updated On   Latitude  Longitude  \\\n",
       "0  2016.0  5/10/2016 15:56  41.864073 -87.706819   \n",
       "1  2016.0  5/10/2016 15:56  41.782922 -87.604363   \n",
       "2  2016.0  5/10/2016 15:56  41.894908 -87.758372   \n",
       "3  2016.0  5/10/2016 15:56  41.885687 -87.749516   \n",
       "4  2016.0  5/10/2016 15:56  41.886297 -87.761751   \n",
       "\n",
       "                        Location  \n",
       "0  (41.864073157, -87.706818608)  \n",
       "1   (41.782921527, -87.60436317)  \n",
       "2  (41.894908283, -87.758371958)  \n",
       "3  (41.885686845, -87.749515983)  \n",
       "4  (41.886297242, -87.761750709)  \n",
       "\n",
       "[5 rows x 23 columns]"
      ]
     },
     "execution_count": 2,
     "metadata": {},
     "output_type": "execute_result"
    }
   ],
   "source": [
    "df = pd.read_csv(\"CrimeData.csv\")\n",
    "df.head()"
   ]
  },
  {
   "cell_type": "code",
   "execution_count": 3,
   "id": "a880c5ec",
   "metadata": {},
   "outputs": [
    {
     "data": {
      "text/html": [
       "<div>\n",
       "<style scoped>\n",
       "    .dataframe tbody tr th:only-of-type {\n",
       "        vertical-align: middle;\n",
       "    }\n",
       "\n",
       "    .dataframe tbody tr th {\n",
       "        vertical-align: top;\n",
       "    }\n",
       "\n",
       "    .dataframe thead th {\n",
       "        text-align: right;\n",
       "    }\n",
       "</style>\n",
       "<table border=\"1\" class=\"dataframe\">\n",
       "  <thead>\n",
       "    <tr style=\"text-align: right;\">\n",
       "      <th></th>\n",
       "      <th>Unnamed: 0</th>\n",
       "      <th>ID</th>\n",
       "      <th>Case Number</th>\n",
       "      <th>Date</th>\n",
       "      <th>Block</th>\n",
       "      <th>IUCR</th>\n",
       "      <th>Primary Type</th>\n",
       "      <th>Description</th>\n",
       "      <th>Location Description</th>\n",
       "      <th>Arrest</th>\n",
       "      <th>...</th>\n",
       "      <th>Ward</th>\n",
       "      <th>Community Area</th>\n",
       "      <th>FBI Code</th>\n",
       "      <th>X Coordinate</th>\n",
       "      <th>Y Coordinate</th>\n",
       "      <th>Year</th>\n",
       "      <th>Updated On</th>\n",
       "      <th>Latitude</th>\n",
       "      <th>Longitude</th>\n",
       "      <th>Location</th>\n",
       "    </tr>\n",
       "  </thead>\n",
       "  <tbody>\n",
       "    <tr>\n",
       "      <th>199994</th>\n",
       "      <td>2533684.0</td>\n",
       "      <td>8624881.0</td>\n",
       "      <td>HV298331</td>\n",
       "      <td>5/22/2012 17:30</td>\n",
       "      <td>016XX W 92ND PL</td>\n",
       "      <td>810</td>\n",
       "      <td>THEFT</td>\n",
       "      <td>OVER $500</td>\n",
       "      <td>RESIDENCE-GARAGE</td>\n",
       "      <td>False</td>\n",
       "      <td>...</td>\n",
       "      <td>21.0</td>\n",
       "      <td>73.0</td>\n",
       "      <td>6</td>\n",
       "      <td>1166756.0</td>\n",
       "      <td>1843350.0</td>\n",
       "      <td>2012.0</td>\n",
       "      <td>2/4/2016 6:33</td>\n",
       "      <td>41.725713</td>\n",
       "      <td>-87.664758</td>\n",
       "      <td>(41.725713374, -87.664758356)</td>\n",
       "    </tr>\n",
       "    <tr>\n",
       "      <th>199995</th>\n",
       "      <td>2533685.0</td>\n",
       "      <td>8624882.0</td>\n",
       "      <td>HV298111</td>\n",
       "      <td>5/22/2012 15:40</td>\n",
       "      <td>133XX S LANGLEY AVE</td>\n",
       "      <td>460</td>\n",
       "      <td>BATTERY</td>\n",
       "      <td>SIMPLE</td>\n",
       "      <td>CHA PARKING LOT/GROUNDS</td>\n",
       "      <td>False</td>\n",
       "      <td>...</td>\n",
       "      <td>9.0</td>\n",
       "      <td>54.0</td>\n",
       "      <td>08B</td>\n",
       "      <td>1183326.0</td>\n",
       "      <td>1817142.0</td>\n",
       "      <td>2012.0</td>\n",
       "      <td>2/4/2016 6:33</td>\n",
       "      <td>41.653426</td>\n",
       "      <td>-87.604874</td>\n",
       "      <td>(41.653425905, -87.604873764)</td>\n",
       "    </tr>\n",
       "    <tr>\n",
       "      <th>199996</th>\n",
       "      <td>2533686.0</td>\n",
       "      <td>8624884.0</td>\n",
       "      <td>HV297965</td>\n",
       "      <td>5/22/2012 12:45</td>\n",
       "      <td>002XX W 110TH PL</td>\n",
       "      <td>820</td>\n",
       "      <td>THEFT</td>\n",
       "      <td>$500 AND UNDER</td>\n",
       "      <td>RESIDENTIAL YARD (FRONT/BACK)</td>\n",
       "      <td>False</td>\n",
       "      <td>...</td>\n",
       "      <td>34.0</td>\n",
       "      <td>49.0</td>\n",
       "      <td>6</td>\n",
       "      <td>1176690.0</td>\n",
       "      <td>1831664.0</td>\n",
       "      <td>2012.0</td>\n",
       "      <td>2/4/2016 6:33</td>\n",
       "      <td>41.693428</td>\n",
       "      <td>-87.628720</td>\n",
       "      <td>(41.693427874, -87.628719953)</td>\n",
       "    </tr>\n",
       "    <tr>\n",
       "      <th>199997</th>\n",
       "      <td>2533687.0</td>\n",
       "      <td>8624885.0</td>\n",
       "      <td>HV298273</td>\n",
       "      <td>5/6/2012 12:00</td>\n",
       "      <td>106XX S HARDING AVE</td>\n",
       "      <td>486</td>\n",
       "      <td>BATTERY</td>\n",
       "      <td>DOMESTIC BATTERY SIMPLE</td>\n",
       "      <td>RESIDENCE-GARAGE</td>\n",
       "      <td>False</td>\n",
       "      <td>...</td>\n",
       "      <td>19.0</td>\n",
       "      <td>74.0</td>\n",
       "      <td>08B</td>\n",
       "      <td>1151893.0</td>\n",
       "      <td>1833865.0</td>\n",
       "      <td>2012.0</td>\n",
       "      <td>2/4/2016 6:33</td>\n",
       "      <td>41.699989</td>\n",
       "      <td>-87.719451</td>\n",
       "      <td>(41.699988631, -87.719450612)</td>\n",
       "    </tr>\n",
       "    <tr>\n",
       "      <th>199998</th>\n",
       "      <td>2533688.0</td>\n",
       "      <td>8624886.0</td>\n",
       "      <td>HV298416</td>\n",
       "      <td>5/22/2012 18:16</td>\n",
       "      <td>023XX N LOREL AVE</td>\n",
       "      <td>143A</td>\n",
       "      <td>WEAPONS VIOLATION</td>\n",
       "      <td>UNLAWFUL POSS OF HANDGUN</td>\n",
       "      <td>RESIDENTIAL YARD (FRONT/BACK)</td>\n",
       "      <td>True</td>\n",
       "      <td>...</td>\n",
       "      <td>37.0</td>\n",
       "      <td>19.0</td>\n",
       "      <td>15</td>\n",
       "      <td>1140330.0</td>\n",
       "      <td>1915076.0</td>\n",
       "      <td>2012.0</td>\n",
       "      <td>2/4/2016 6:33</td>\n",
       "      <td>41.923063</td>\n",
       "      <td>-87.759806</td>\n",
       "      <td>(41.923063091, -87.759805878)</td>\n",
       "    </tr>\n",
       "  </tbody>\n",
       "</table>\n",
       "<p>5 rows × 23 columns</p>\n",
       "</div>"
      ],
      "text/plain": [
       "        Unnamed: 0         ID Case Number             Date  \\\n",
       "199994   2533684.0  8624881.0    HV298331  5/22/2012 17:30   \n",
       "199995   2533685.0  8624882.0    HV298111  5/22/2012 15:40   \n",
       "199996   2533686.0  8624884.0    HV297965  5/22/2012 12:45   \n",
       "199997   2533687.0  8624885.0    HV298273   5/6/2012 12:00   \n",
       "199998   2533688.0  8624886.0    HV298416  5/22/2012 18:16   \n",
       "\n",
       "                      Block  IUCR       Primary Type  \\\n",
       "199994      016XX W 92ND PL   810              THEFT   \n",
       "199995  133XX S LANGLEY AVE   460            BATTERY   \n",
       "199996     002XX W 110TH PL   820              THEFT   \n",
       "199997  106XX S HARDING AVE   486            BATTERY   \n",
       "199998    023XX N LOREL AVE  143A  WEAPONS VIOLATION   \n",
       "\n",
       "                     Description           Location Description Arrest  ...  \\\n",
       "199994                 OVER $500               RESIDENCE-GARAGE  False  ...   \n",
       "199995                    SIMPLE        CHA PARKING LOT/GROUNDS  False  ...   \n",
       "199996            $500 AND UNDER  RESIDENTIAL YARD (FRONT/BACK)  False  ...   \n",
       "199997   DOMESTIC BATTERY SIMPLE               RESIDENCE-GARAGE  False  ...   \n",
       "199998  UNLAWFUL POSS OF HANDGUN  RESIDENTIAL YARD (FRONT/BACK)   True  ...   \n",
       "\n",
       "        Ward  Community Area  FBI Code  X Coordinate  Y Coordinate    Year  \\\n",
       "199994  21.0            73.0         6     1166756.0     1843350.0  2012.0   \n",
       "199995   9.0            54.0       08B     1183326.0     1817142.0  2012.0   \n",
       "199996  34.0            49.0         6     1176690.0     1831664.0  2012.0   \n",
       "199997  19.0            74.0       08B     1151893.0     1833865.0  2012.0   \n",
       "199998  37.0            19.0        15     1140330.0     1915076.0  2012.0   \n",
       "\n",
       "           Updated On   Latitude  Longitude                       Location  \n",
       "199994  2/4/2016 6:33  41.725713 -87.664758  (41.725713374, -87.664758356)  \n",
       "199995  2/4/2016 6:33  41.653426 -87.604874  (41.653425905, -87.604873764)  \n",
       "199996  2/4/2016 6:33  41.693428 -87.628720  (41.693427874, -87.628719953)  \n",
       "199997  2/4/2016 6:33  41.699989 -87.719451  (41.699988631, -87.719450612)  \n",
       "199998  2/4/2016 6:33  41.923063 -87.759806  (41.923063091, -87.759805878)  \n",
       "\n",
       "[5 rows x 23 columns]"
      ]
     },
     "execution_count": 3,
     "metadata": {},
     "output_type": "execute_result"
    }
   ],
   "source": [
    "df.dropna(inplace=True)\n",
    "df.tail()"
   ]
  },
  {
   "cell_type": "code",
   "execution_count": 4,
   "id": "a72257c0",
   "metadata": {},
   "outputs": [
    {
     "data": {
      "text/html": [
       "<div>\n",
       "<style scoped>\n",
       "    .dataframe tbody tr th:only-of-type {\n",
       "        vertical-align: middle;\n",
       "    }\n",
       "\n",
       "    .dataframe tbody tr th {\n",
       "        vertical-align: top;\n",
       "    }\n",
       "\n",
       "    .dataframe thead th {\n",
       "        text-align: right;\n",
       "    }\n",
       "</style>\n",
       "<table border=\"1\" class=\"dataframe\">\n",
       "  <thead>\n",
       "    <tr style=\"text-align: right;\">\n",
       "      <th></th>\n",
       "      <th>Unnamed: 0</th>\n",
       "      <th>ID</th>\n",
       "      <th>Beat</th>\n",
       "      <th>District</th>\n",
       "      <th>Ward</th>\n",
       "      <th>Community Area</th>\n",
       "      <th>X Coordinate</th>\n",
       "      <th>Y Coordinate</th>\n",
       "      <th>Year</th>\n",
       "      <th>Latitude</th>\n",
       "      <th>Longitude</th>\n",
       "    </tr>\n",
       "  </thead>\n",
       "  <tbody>\n",
       "    <tr>\n",
       "      <th>count</th>\n",
       "      <td>1.924890e+05</td>\n",
       "      <td>1.924890e+05</td>\n",
       "      <td>192489.000000</td>\n",
       "      <td>192489.000000</td>\n",
       "      <td>192489.000000</td>\n",
       "      <td>192489.000000</td>\n",
       "      <td>1.924890e+05</td>\n",
       "      <td>1.924890e+05</td>\n",
       "      <td>192489.000000</td>\n",
       "      <td>192489.000000</td>\n",
       "      <td>192489.000000</td>\n",
       "    </tr>\n",
       "    <tr>\n",
       "      <th>mean</th>\n",
       "      <td>1.873710e+06</td>\n",
       "      <td>9.104666e+06</td>\n",
       "      <td>1155.949857</td>\n",
       "      <td>11.213358</td>\n",
       "      <td>22.647481</td>\n",
       "      <td>37.888456</td>\n",
       "      <td>1.164457e+06</td>\n",
       "      <td>1.884956e+06</td>\n",
       "      <td>2013.196681</td>\n",
       "      <td>41.839916</td>\n",
       "      <td>-87.672042</td>\n",
       "    </tr>\n",
       "    <tr>\n",
       "      <th>std</th>\n",
       "      <td>7.951918e+05</td>\n",
       "      <td>8.101823e+05</td>\n",
       "      <td>693.842145</td>\n",
       "      <td>6.898488</td>\n",
       "      <td>13.665015</td>\n",
       "      <td>21.405446</td>\n",
       "      <td>1.784708e+04</td>\n",
       "      <td>3.340824e+04</td>\n",
       "      <td>1.616702</td>\n",
       "      <td>0.091961</td>\n",
       "      <td>0.064427</td>\n",
       "    </tr>\n",
       "    <tr>\n",
       "      <th>min</th>\n",
       "      <td>3.000000e+00</td>\n",
       "      <td>2.085900e+04</td>\n",
       "      <td>111.000000</td>\n",
       "      <td>1.000000</td>\n",
       "      <td>1.000000</td>\n",
       "      <td>0.000000</td>\n",
       "      <td>0.000000e+00</td>\n",
       "      <td>0.000000e+00</td>\n",
       "      <td>2012.000000</td>\n",
       "      <td>36.619446</td>\n",
       "      <td>-91.686566</td>\n",
       "    </tr>\n",
       "    <tr>\n",
       "      <th>25%</th>\n",
       "      <td>8.629250e+05</td>\n",
       "      <td>8.502760e+06</td>\n",
       "      <td>613.000000</td>\n",
       "      <td>6.000000</td>\n",
       "      <td>10.000000</td>\n",
       "      <td>23.000000</td>\n",
       "      <td>1.152440e+06</td>\n",
       "      <td>1.858253e+06</td>\n",
       "      <td>2012.000000</td>\n",
       "      <td>41.766289</td>\n",
       "      <td>-87.715809</td>\n",
       "    </tr>\n",
       "    <tr>\n",
       "      <th>50%</th>\n",
       "      <td>2.436033e+06</td>\n",
       "      <td>8.581773e+06</td>\n",
       "      <td>1023.000000</td>\n",
       "      <td>10.000000</td>\n",
       "      <td>22.000000</td>\n",
       "      <td>32.000000</td>\n",
       "      <td>1.165915e+06</td>\n",
       "      <td>1.890190e+06</td>\n",
       "      <td>2012.000000</td>\n",
       "      <td>41.854399</td>\n",
       "      <td>-87.666422</td>\n",
       "    </tr>\n",
       "    <tr>\n",
       "      <th>75%</th>\n",
       "      <td>2.485087e+06</td>\n",
       "      <td>9.953633e+06</td>\n",
       "      <td>1711.000000</td>\n",
       "      <td>16.000000</td>\n",
       "      <td>33.000000</td>\n",
       "      <td>58.000000</td>\n",
       "      <td>1.176388e+06</td>\n",
       "      <td>1.908404e+06</td>\n",
       "      <td>2015.000000</td>\n",
       "      <td>41.904402</td>\n",
       "      <td>-87.628069</td>\n",
       "    </tr>\n",
       "    <tr>\n",
       "      <th>max</th>\n",
       "      <td>2.533688e+06</td>\n",
       "      <td>1.054914e+07</td>\n",
       "      <td>2535.000000</td>\n",
       "      <td>31.000000</td>\n",
       "      <td>50.000000</td>\n",
       "      <td>77.000000</td>\n",
       "      <td>1.205119e+06</td>\n",
       "      <td>1.951523e+06</td>\n",
       "      <td>2016.000000</td>\n",
       "      <td>42.022575</td>\n",
       "      <td>-87.524529</td>\n",
       "    </tr>\n",
       "  </tbody>\n",
       "</table>\n",
       "</div>"
      ],
      "text/plain": [
       "         Unnamed: 0            ID           Beat       District  \\\n",
       "count  1.924890e+05  1.924890e+05  192489.000000  192489.000000   \n",
       "mean   1.873710e+06  9.104666e+06    1155.949857      11.213358   \n",
       "std    7.951918e+05  8.101823e+05     693.842145       6.898488   \n",
       "min    3.000000e+00  2.085900e+04     111.000000       1.000000   \n",
       "25%    8.629250e+05  8.502760e+06     613.000000       6.000000   \n",
       "50%    2.436033e+06  8.581773e+06    1023.000000      10.000000   \n",
       "75%    2.485087e+06  9.953633e+06    1711.000000      16.000000   \n",
       "max    2.533688e+06  1.054914e+07    2535.000000      31.000000   \n",
       "\n",
       "                Ward  Community Area  X Coordinate  Y Coordinate  \\\n",
       "count  192489.000000   192489.000000  1.924890e+05  1.924890e+05   \n",
       "mean       22.647481       37.888456  1.164457e+06  1.884956e+06   \n",
       "std        13.665015       21.405446  1.784708e+04  3.340824e+04   \n",
       "min         1.000000        0.000000  0.000000e+00  0.000000e+00   \n",
       "25%        10.000000       23.000000  1.152440e+06  1.858253e+06   \n",
       "50%        22.000000       32.000000  1.165915e+06  1.890190e+06   \n",
       "75%        33.000000       58.000000  1.176388e+06  1.908404e+06   \n",
       "max        50.000000       77.000000  1.205119e+06  1.951523e+06   \n",
       "\n",
       "                Year       Latitude      Longitude  \n",
       "count  192489.000000  192489.000000  192489.000000  \n",
       "mean     2013.196681      41.839916     -87.672042  \n",
       "std         1.616702       0.091961       0.064427  \n",
       "min      2012.000000      36.619446     -91.686566  \n",
       "25%      2012.000000      41.766289     -87.715809  \n",
       "50%      2012.000000      41.854399     -87.666422  \n",
       "75%      2015.000000      41.904402     -87.628069  \n",
       "max      2016.000000      42.022575     -87.524529  "
      ]
     },
     "execution_count": 4,
     "metadata": {},
     "output_type": "execute_result"
    }
   ],
   "source": [
    "df.describe()"
   ]
  },
  {
   "cell_type": "code",
   "execution_count": 5,
   "id": "2cb0382d",
   "metadata": {},
   "outputs": [
    {
     "data": {
      "text/html": [
       "<div>\n",
       "<style scoped>\n",
       "    .dataframe tbody tr th:only-of-type {\n",
       "        vertical-align: middle;\n",
       "    }\n",
       "\n",
       "    .dataframe tbody tr th {\n",
       "        vertical-align: top;\n",
       "    }\n",
       "\n",
       "    .dataframe thead th {\n",
       "        text-align: right;\n",
       "    }\n",
       "</style>\n",
       "<table border=\"1\" class=\"dataframe\">\n",
       "  <thead>\n",
       "    <tr style=\"text-align: right;\">\n",
       "      <th></th>\n",
       "      <th>count</th>\n",
       "      <th>mean</th>\n",
       "      <th>std</th>\n",
       "      <th>min</th>\n",
       "      <th>25%</th>\n",
       "      <th>50%</th>\n",
       "      <th>75%</th>\n",
       "      <th>max</th>\n",
       "    </tr>\n",
       "  </thead>\n",
       "  <tbody>\n",
       "    <tr>\n",
       "      <th>Unnamed: 0</th>\n",
       "      <td>192489.0</td>\n",
       "      <td>1.873710e+06</td>\n",
       "      <td>795191.786973</td>\n",
       "      <td>3.000000</td>\n",
       "      <td>8.629250e+05</td>\n",
       "      <td>2.436033e+06</td>\n",
       "      <td>2.485087e+06</td>\n",
       "      <td>2.533688e+06</td>\n",
       "    </tr>\n",
       "    <tr>\n",
       "      <th>ID</th>\n",
       "      <td>192489.0</td>\n",
       "      <td>9.104666e+06</td>\n",
       "      <td>810182.264649</td>\n",
       "      <td>20859.000000</td>\n",
       "      <td>8.502760e+06</td>\n",
       "      <td>8.581773e+06</td>\n",
       "      <td>9.953633e+06</td>\n",
       "      <td>1.054914e+07</td>\n",
       "    </tr>\n",
       "    <tr>\n",
       "      <th>Beat</th>\n",
       "      <td>192489.0</td>\n",
       "      <td>1.155950e+03</td>\n",
       "      <td>693.842145</td>\n",
       "      <td>111.000000</td>\n",
       "      <td>6.130000e+02</td>\n",
       "      <td>1.023000e+03</td>\n",
       "      <td>1.711000e+03</td>\n",
       "      <td>2.535000e+03</td>\n",
       "    </tr>\n",
       "    <tr>\n",
       "      <th>District</th>\n",
       "      <td>192489.0</td>\n",
       "      <td>1.121336e+01</td>\n",
       "      <td>6.898488</td>\n",
       "      <td>1.000000</td>\n",
       "      <td>6.000000e+00</td>\n",
       "      <td>1.000000e+01</td>\n",
       "      <td>1.600000e+01</td>\n",
       "      <td>3.100000e+01</td>\n",
       "    </tr>\n",
       "    <tr>\n",
       "      <th>Ward</th>\n",
       "      <td>192489.0</td>\n",
       "      <td>2.264748e+01</td>\n",
       "      <td>13.665015</td>\n",
       "      <td>1.000000</td>\n",
       "      <td>1.000000e+01</td>\n",
       "      <td>2.200000e+01</td>\n",
       "      <td>3.300000e+01</td>\n",
       "      <td>5.000000e+01</td>\n",
       "    </tr>\n",
       "    <tr>\n",
       "      <th>Community Area</th>\n",
       "      <td>192489.0</td>\n",
       "      <td>3.788846e+01</td>\n",
       "      <td>21.405446</td>\n",
       "      <td>0.000000</td>\n",
       "      <td>2.300000e+01</td>\n",
       "      <td>3.200000e+01</td>\n",
       "      <td>5.800000e+01</td>\n",
       "      <td>7.700000e+01</td>\n",
       "    </tr>\n",
       "    <tr>\n",
       "      <th>X Coordinate</th>\n",
       "      <td>192489.0</td>\n",
       "      <td>1.164457e+06</td>\n",
       "      <td>17847.084681</td>\n",
       "      <td>0.000000</td>\n",
       "      <td>1.152440e+06</td>\n",
       "      <td>1.165915e+06</td>\n",
       "      <td>1.176388e+06</td>\n",
       "      <td>1.205119e+06</td>\n",
       "    </tr>\n",
       "    <tr>\n",
       "      <th>Y Coordinate</th>\n",
       "      <td>192489.0</td>\n",
       "      <td>1.884956e+06</td>\n",
       "      <td>33408.236382</td>\n",
       "      <td>0.000000</td>\n",
       "      <td>1.858253e+06</td>\n",
       "      <td>1.890190e+06</td>\n",
       "      <td>1.908404e+06</td>\n",
       "      <td>1.951523e+06</td>\n",
       "    </tr>\n",
       "    <tr>\n",
       "      <th>Year</th>\n",
       "      <td>192489.0</td>\n",
       "      <td>2.013197e+03</td>\n",
       "      <td>1.616702</td>\n",
       "      <td>2012.000000</td>\n",
       "      <td>2.012000e+03</td>\n",
       "      <td>2.012000e+03</td>\n",
       "      <td>2.015000e+03</td>\n",
       "      <td>2.016000e+03</td>\n",
       "    </tr>\n",
       "    <tr>\n",
       "      <th>Latitude</th>\n",
       "      <td>192489.0</td>\n",
       "      <td>4.183992e+01</td>\n",
       "      <td>0.091961</td>\n",
       "      <td>36.619446</td>\n",
       "      <td>4.176629e+01</td>\n",
       "      <td>4.185440e+01</td>\n",
       "      <td>4.190440e+01</td>\n",
       "      <td>4.202258e+01</td>\n",
       "    </tr>\n",
       "    <tr>\n",
       "      <th>Longitude</th>\n",
       "      <td>192489.0</td>\n",
       "      <td>-8.767204e+01</td>\n",
       "      <td>0.064427</td>\n",
       "      <td>-91.686566</td>\n",
       "      <td>-8.771581e+01</td>\n",
       "      <td>-8.766642e+01</td>\n",
       "      <td>-8.762807e+01</td>\n",
       "      <td>-8.752453e+01</td>\n",
       "    </tr>\n",
       "  </tbody>\n",
       "</table>\n",
       "</div>"
      ],
      "text/plain": [
       "                   count          mean            std           min  \\\n",
       "Unnamed: 0      192489.0  1.873710e+06  795191.786973      3.000000   \n",
       "ID              192489.0  9.104666e+06  810182.264649  20859.000000   \n",
       "Beat            192489.0  1.155950e+03     693.842145    111.000000   \n",
       "District        192489.0  1.121336e+01       6.898488      1.000000   \n",
       "Ward            192489.0  2.264748e+01      13.665015      1.000000   \n",
       "Community Area  192489.0  3.788846e+01      21.405446      0.000000   \n",
       "X Coordinate    192489.0  1.164457e+06   17847.084681      0.000000   \n",
       "Y Coordinate    192489.0  1.884956e+06   33408.236382      0.000000   \n",
       "Year            192489.0  2.013197e+03       1.616702   2012.000000   \n",
       "Latitude        192489.0  4.183992e+01       0.091961     36.619446   \n",
       "Longitude       192489.0 -8.767204e+01       0.064427    -91.686566   \n",
       "\n",
       "                         25%           50%           75%           max  \n",
       "Unnamed: 0      8.629250e+05  2.436033e+06  2.485087e+06  2.533688e+06  \n",
       "ID              8.502760e+06  8.581773e+06  9.953633e+06  1.054914e+07  \n",
       "Beat            6.130000e+02  1.023000e+03  1.711000e+03  2.535000e+03  \n",
       "District        6.000000e+00  1.000000e+01  1.600000e+01  3.100000e+01  \n",
       "Ward            1.000000e+01  2.200000e+01  3.300000e+01  5.000000e+01  \n",
       "Community Area  2.300000e+01  3.200000e+01  5.800000e+01  7.700000e+01  \n",
       "X Coordinate    1.152440e+06  1.165915e+06  1.176388e+06  1.205119e+06  \n",
       "Y Coordinate    1.858253e+06  1.890190e+06  1.908404e+06  1.951523e+06  \n",
       "Year            2.012000e+03  2.012000e+03  2.015000e+03  2.016000e+03  \n",
       "Latitude        4.176629e+01  4.185440e+01  4.190440e+01  4.202258e+01  \n",
       "Longitude      -8.771581e+01 -8.766642e+01 -8.762807e+01 -8.752453e+01  "
      ]
     },
     "execution_count": 5,
     "metadata": {},
     "output_type": "execute_result"
    }
   ],
   "source": [
    "df.describe().T"
   ]
  },
  {
   "cell_type": "code",
   "execution_count": 6,
   "id": "ebf25c92",
   "metadata": {},
   "outputs": [
    {
     "data": {
      "text/plain": [
       "Index(['Unnamed: 0', 'ID', 'Case Number', 'Date', 'Block', 'IUCR',\n",
       "       'Primary Type', 'Description', 'Location Description', 'Arrest',\n",
       "       'Domestic', 'Beat', 'District', 'Ward', 'Community Area', 'FBI Code',\n",
       "       'X Coordinate', 'Y Coordinate', 'Year', 'Updated On', 'Latitude',\n",
       "       'Longitude', 'Location'],\n",
       "      dtype='object')"
      ]
     },
     "execution_count": 6,
     "metadata": {},
     "output_type": "execute_result"
    }
   ],
   "source": [
    "df.columns"
   ]
  },
  {
   "cell_type": "code",
   "execution_count": 7,
   "id": "5aa36e91",
   "metadata": {},
   "outputs": [
    {
     "data": {
      "text/plain": [
       "Int64Index([     0,      1,      2,      3,      4,      5,      6,      7,\n",
       "                 8,      9,\n",
       "            ...\n",
       "            199989, 199990, 199991, 199992, 199993, 199994, 199995, 199996,\n",
       "            199997, 199998],\n",
       "           dtype='int64', length=192489)"
      ]
     },
     "execution_count": 7,
     "metadata": {},
     "output_type": "execute_result"
    }
   ],
   "source": [
    "df.index"
   ]
  },
  {
   "cell_type": "code",
   "execution_count": 8,
   "id": "e242ebaa",
   "metadata": {},
   "outputs": [
    {
     "data": {
      "text/plain": [
       "(192489, 23)"
      ]
     },
     "execution_count": 8,
     "metadata": {},
     "output_type": "execute_result"
    }
   ],
   "source": [
    "df.shape"
   ]
  },
  {
   "cell_type": "code",
   "execution_count": 9,
   "id": "f18543fe",
   "metadata": {},
   "outputs": [
    {
     "data": {
      "text/plain": [
       "Unnamed: 0              192489\n",
       "ID                      192489\n",
       "Case Number             192489\n",
       "Date                    192489\n",
       "Block                   192489\n",
       "IUCR                    192489\n",
       "Primary Type            192489\n",
       "Description             192489\n",
       "Location Description    192489\n",
       "Arrest                  192489\n",
       "Domestic                192489\n",
       "Beat                    192489\n",
       "District                192489\n",
       "Ward                    192489\n",
       "Community Area          192489\n",
       "FBI Code                192489\n",
       "X Coordinate            192489\n",
       "Y Coordinate            192489\n",
       "Year                    192489\n",
       "Updated On              192489\n",
       "Latitude                192489\n",
       "Longitude               192489\n",
       "Location                192489\n",
       "dtype: int64"
      ]
     },
     "execution_count": 9,
     "metadata": {},
     "output_type": "execute_result"
    }
   ],
   "source": [
    "df.count()"
   ]
  },
  {
   "cell_type": "code",
   "execution_count": 10,
   "id": "8e96d64c",
   "metadata": {},
   "outputs": [
    {
     "data": {
      "text/plain": [
       "0         False\n",
       "1         False\n",
       "2         False\n",
       "3         False\n",
       "4         False\n",
       "          ...  \n",
       "199994    False\n",
       "199995    False\n",
       "199996    False\n",
       "199997    False\n",
       "199998    False\n",
       "Length: 192489, dtype: bool"
      ]
     },
     "execution_count": 10,
     "metadata": {},
     "output_type": "execute_result"
    }
   ],
   "source": [
    "df.duplicated()"
   ]
  },
  {
   "cell_type": "code",
   "execution_count": 11,
   "id": "968613f0",
   "metadata": {},
   "outputs": [
    {
     "data": {
      "text/plain": [
       "0"
      ]
     },
     "execution_count": 11,
     "metadata": {},
     "output_type": "execute_result"
    }
   ],
   "source": [
    "df.duplicated().sum()"
   ]
  },
  {
   "cell_type": "code",
   "execution_count": 12,
   "id": "10f730e5",
   "metadata": {},
   "outputs": [
    {
     "name": "stdout",
     "output_type": "stream",
     "text": [
      "<class 'pandas.core.frame.DataFrame'>\n",
      "Int64Index: 192489 entries, 0 to 199998\n",
      "Data columns (total 23 columns):\n",
      " #   Column                Non-Null Count   Dtype  \n",
      "---  ------                --------------   -----  \n",
      " 0   Unnamed: 0            192489 non-null  float64\n",
      " 1   ID                    192489 non-null  float64\n",
      " 2   Case Number           192489 non-null  object \n",
      " 3   Date                  192489 non-null  object \n",
      " 4   Block                 192489 non-null  object \n",
      " 5   IUCR                  192489 non-null  object \n",
      " 6   Primary Type          192489 non-null  object \n",
      " 7   Description           192489 non-null  object \n",
      " 8   Location Description  192489 non-null  object \n",
      " 9   Arrest                192489 non-null  object \n",
      " 10  Domestic              192489 non-null  object \n",
      " 11  Beat                  192489 non-null  float64\n",
      " 12  District              192489 non-null  float64\n",
      " 13  Ward                  192489 non-null  float64\n",
      " 14  Community Area        192489 non-null  float64\n",
      " 15  FBI Code              192489 non-null  object \n",
      " 16  X Coordinate          192489 non-null  float64\n",
      " 17  Y Coordinate          192489 non-null  float64\n",
      " 18  Year                  192489 non-null  float64\n",
      " 19  Updated On            192489 non-null  object \n",
      " 20  Latitude              192489 non-null  float64\n",
      " 21  Longitude             192489 non-null  float64\n",
      " 22  Location              192489 non-null  object \n",
      "dtypes: float64(11), object(12)\n",
      "memory usage: 35.2+ MB\n"
     ]
    }
   ],
   "source": [
    "df.info()"
   ]
  },
  {
   "cell_type": "code",
   "execution_count": 13,
   "id": "d5fb4af6",
   "metadata": {},
   "outputs": [
    {
     "data": {
      "text/plain": [
       "Unnamed: 0              192489\n",
       "ID                      192489\n",
       "Case Number             192484\n",
       "Date                     79184\n",
       "Block                    25889\n",
       "IUCR                       320\n",
       "Primary Type                32\n",
       "Description                300\n",
       "Location Description       107\n",
       "Arrest                       2\n",
       "Domestic                     2\n",
       "Beat                       302\n",
       "District                    24\n",
       "Ward                        50\n",
       "Community Area              78\n",
       "FBI Code                    26\n",
       "X Coordinate             48089\n",
       "Y Coordinate             65454\n",
       "Year                         5\n",
       "Updated On                 226\n",
       "Latitude                109922\n",
       "Longitude               109842\n",
       "Location                110106\n",
       "dtype: int64"
      ]
     },
     "execution_count": 13,
     "metadata": {},
     "output_type": "execute_result"
    }
   ],
   "source": [
    "df.nunique()"
   ]
  },
  {
   "cell_type": "code",
   "execution_count": 14,
   "id": "a93efc2d",
   "metadata": {},
   "outputs": [
    {
     "name": "stdout",
     "output_type": "stream",
     "text": [
      "Categorical columns: ['Case Number', 'Date', 'Block', 'IUCR', 'Primary Type', 'Description', 'Location Description', 'Arrest', 'Domestic', 'FBI Code', 'Updated On', 'Location']\n",
      "Numerical columns: ['Unnamed: 0', 'ID', 'Beat', 'District', 'Ward', 'Community Area', 'X Coordinate', 'Y Coordinate', 'Year', 'Latitude', 'Longitude']\n"
     ]
    }
   ],
   "source": [
    "cat_col = [col for col in df.columns if df[col].dtype == 'object']\n",
    "print('Categorical columns:', cat_col)\n",
    "num_col = [col for col in df.columns if df[col].dtype != 'object']\n",
    "print('Numerical columns:', num_col)"
   ]
  },
  {
   "cell_type": "code",
   "execution_count": 15,
   "id": "d68c3b22",
   "metadata": {},
   "outputs": [
    {
     "data": {
      "text/plain": [
       "Case Number             192484\n",
       "Date                     79184\n",
       "Block                    25889\n",
       "IUCR                       320\n",
       "Primary Type                32\n",
       "Description                300\n",
       "Location Description       107\n",
       "Arrest                       2\n",
       "Domestic                     2\n",
       "FBI Code                    26\n",
       "Updated On                 226\n",
       "Location                110106\n",
       "dtype: int64"
      ]
     },
     "execution_count": 15,
     "metadata": {},
     "output_type": "execute_result"
    }
   ],
   "source": [
    "df[cat_col].nunique()"
   ]
  },
  {
   "cell_type": "code",
   "execution_count": 16,
   "id": "07a910b8",
   "metadata": {},
   "outputs": [
    {
     "data": {
      "text/plain": [
       "Unnamed: 0              0\n",
       "ID                      0\n",
       "Case Number             0\n",
       "Date                    0\n",
       "Block                   0\n",
       "IUCR                    0\n",
       "Primary Type            0\n",
       "Description             0\n",
       "Location Description    0\n",
       "Arrest                  0\n",
       "Domestic                0\n",
       "Beat                    0\n",
       "District                0\n",
       "Ward                    0\n",
       "Community Area          0\n",
       "FBI Code                0\n",
       "X Coordinate            0\n",
       "Y Coordinate            0\n",
       "Year                    0\n",
       "Updated On              0\n",
       "Latitude                0\n",
       "Longitude               0\n",
       "Location                0\n",
       "dtype: int64"
      ]
     },
     "execution_count": 16,
     "metadata": {},
     "output_type": "execute_result"
    }
   ],
   "source": [
    "df.isnull().sum()"
   ]
  },
  {
   "cell_type": "code",
   "execution_count": 17,
   "id": "6ba7a07b",
   "metadata": {},
   "outputs": [],
   "source": [
    "df.drop(columns=['Unnamed: 0'], inplace=True)"
   ]
  },
  {
   "cell_type": "code",
   "execution_count": 18,
   "id": "7fcf73b4",
   "metadata": {},
   "outputs": [
    {
     "data": {
      "text/plain": [
       "(192489, 22)"
      ]
     },
     "execution_count": 18,
     "metadata": {},
     "output_type": "execute_result"
    }
   ],
   "source": [
    "df.shape"
   ]
  },
  {
   "cell_type": "code",
   "execution_count": 19,
   "id": "e3cb2463",
   "metadata": {},
   "outputs": [
    {
     "data": {
      "text/plain": [
       "Index(['ID', 'Case Number', 'Date', 'Block', 'IUCR', 'Primary Type',\n",
       "       'Description', 'Location Description', 'Arrest', 'Domestic', 'Beat',\n",
       "       'District', 'Ward', 'Community Area', 'FBI Code', 'X Coordinate',\n",
       "       'Y Coordinate', 'Year', 'Updated On', 'Latitude', 'Longitude',\n",
       "       'Location'],\n",
       "      dtype='object')"
      ]
     },
     "execution_count": 19,
     "metadata": {},
     "output_type": "execute_result"
    }
   ],
   "source": [
    "df.columns"
   ]
  },
  {
   "cell_type": "code",
   "execution_count": 20,
   "id": "e345e785",
   "metadata": {},
   "outputs": [
    {
     "name": "stdout",
     "output_type": "stream",
     "text": [
      "THEFT                                40390\n",
      "BATTERY                              35503\n",
      "NARCOTICS                            22137\n",
      "CRIMINAL DAMAGE                      20588\n",
      "ASSAULT                              12285\n",
      "OTHER OFFENSE                        11650\n",
      "BURGLARY                             10877\n",
      "MOTOR VEHICLE THEFT                   8849\n",
      "DECEPTIVE PRACTICE                    7953\n",
      "ROBBERY                               6876\n",
      "CRIMINAL TRESPASS                     5079\n",
      "WEAPONS VIOLATION                     2373\n",
      "PUBLIC PEACE VIOLATION                1770\n",
      "OFFENSE INVOLVING CHILDREN            1390\n",
      "PROSTITUTION                          1349\n",
      "INTERFERENCE WITH PUBLIC OFFICER       825\n",
      "CRIM SEXUAL ASSAULT                    760\n",
      "SEX OFFENSE                            559\n",
      "LIQUOR LAW VIOLATION                   326\n",
      "ARSON                                  288\n",
      "GAMBLING                               217\n",
      "KIDNAPPING                             129\n",
      "STALKING                               114\n",
      "INTIMIDATION                            90\n",
      "HOMICIDE                                68\n",
      "OBSCENITY                               20\n",
      "PUBLIC INDECENCY                         9\n",
      "NON-CRIMINAL                             6\n",
      "CONCEALED CARRY LICENSE VIOLATION        4\n",
      "HUMAN TRAFFICKING                        2\n",
      "NON - CRIMINAL                           2\n",
      "OTHER NARCOTIC VIOLATION                 1\n",
      "Name: Primary Type, dtype: int64\n"
     ]
    }
   ],
   "source": [
    "print(df['Primary Type'].value_counts())"
   ]
  },
  {
   "cell_type": "code",
   "execution_count": 21,
   "id": "22cd5949",
   "metadata": {},
   "outputs": [
    {
     "name": "stdout",
     "output_type": "stream",
     "text": [
      "STREET                      45363\n",
      "RESIDENCE                   30508\n",
      "APARTMENT                   24691\n",
      "SIDEWALK                    21018\n",
      "OTHER                        6878\n",
      "                            ...  \n",
      "PORCH                           2\n",
      "NEWSSTAND                       2\n",
      "YARD                            2\n",
      "PARKING LOT                     1\n",
      "BARBER SHOP/BEAUTY SALON        1\n",
      "Name: Location Description, Length: 107, dtype: int64\n"
     ]
    }
   ],
   "source": [
    "print(df['Location Description'].value_counts())"
   ]
  },
  {
   "cell_type": "markdown",
   "id": "97cf8ad5",
   "metadata": {},
   "source": [
    "# Group By"
   ]
  },
  {
   "cell_type": "code",
   "execution_count": 22,
   "id": "1bd9a42c",
   "metadata": {},
   "outputs": [
    {
     "data": {
      "text/plain": [
       "Primary Type\n",
       "ARSON                                   33\n",
       "ASSAULT                               2956\n",
       "BATTERY                               8213\n",
       "BURGLARY                               617\n",
       "CONCEALED CARRY LICENSE VIOLATION        4\n",
       "CRIM SEXUAL ASSAULT                    105\n",
       "CRIMINAL DAMAGE                       1463\n",
       "CRIMINAL TRESPASS                     3784\n",
       "DECEPTIVE PRACTICE                    1263\n",
       "GAMBLING                               217\n",
       "HOMICIDE                                18\n",
       "HUMAN TRAFFICKING                        0\n",
       "INTERFERENCE WITH PUBLIC OFFICER       783\n",
       "INTIMIDATION                            25\n",
       "KIDNAPPING                               9\n",
       "LIQUOR LAW VIOLATION                   325\n",
       "MOTOR VEHICLE THEFT                    567\n",
       "NARCOTICS                            22093\n",
       "NON - CRIMINAL                           0\n",
       "NON-CRIMINAL                             0\n",
       "OBSCENITY                               17\n",
       "OFFENSE INVOLVING CHILDREN             267\n",
       "OTHER NARCOTIC VIOLATION             False\n",
       "OTHER OFFENSE                         2371\n",
       "PROSTITUTION                          1344\n",
       "PUBLIC INDECENCY                         9\n",
       "PUBLIC PEACE VIOLATION                1342\n",
       "ROBBERY                                733\n",
       "SEX OFFENSE                            137\n",
       "STALKING                                26\n",
       "THEFT                                 5024\n",
       "WEAPONS VIOLATION                     1914\n",
       "Name: Arrest, dtype: object"
      ]
     },
     "execution_count": 22,
     "metadata": {},
     "output_type": "execute_result"
    }
   ],
   "source": [
    "df.groupby('Primary Type')['Arrest'].sum()"
   ]
  },
  {
   "cell_type": "code",
   "execution_count": 23,
   "id": "2e870e87",
   "metadata": {},
   "outputs": [
    {
     "data": {
      "text/plain": [
       "District\n",
       "1.0      2124\n",
       "2.0      1788\n",
       "3.0      2620\n",
       "4.0      3018\n",
       "5.0      2748\n",
       "6.0      3646\n",
       "7.0      3968\n",
       "8.0      3785\n",
       "9.0      2735\n",
       "10.0     2634\n",
       "11.0     6187\n",
       "12.0     1967\n",
       "13.0    False\n",
       "14.0     1492\n",
       "15.0     3703\n",
       "16.0     1192\n",
       "17.0     1213\n",
       "18.0     1839\n",
       "19.0     1686\n",
       "20.0      790\n",
       "22.0     1476\n",
       "24.0     1429\n",
       "25.0     3618\n",
       "31.0        1\n",
       "Name: Arrest, dtype: object"
      ]
     },
     "execution_count": 23,
     "metadata": {},
     "output_type": "execute_result"
    }
   ],
   "source": [
    "df.groupby('District')['Arrest'].sum()\n"
   ]
  },
  {
   "cell_type": "code",
   "execution_count": 24,
   "id": "cff180e7",
   "metadata": {},
   "outputs": [
    {
     "data": {
      "text/plain": [
       "District\n",
       "1.0      420\n",
       "2.0     1461\n",
       "3.0     2150\n",
       "4.0     2239\n",
       "5.0     1686\n",
       "6.0     2312\n",
       "7.0     2289\n",
       "8.0     2038\n",
       "9.0     1434\n",
       "10.0    1575\n",
       "11.0    2221\n",
       "12.0     963\n",
       "13.0    True\n",
       "14.0     733\n",
       "15.0    1780\n",
       "16.0     803\n",
       "17.0     720\n",
       "18.0     311\n",
       "19.0     538\n",
       "20.0     327\n",
       "22.0    1038\n",
       "24.0     784\n",
       "25.0    1842\n",
       "31.0       0\n",
       "Name: Domestic, dtype: object"
      ]
     },
     "execution_count": 24,
     "metadata": {},
     "output_type": "execute_result"
    }
   ],
   "source": [
    "df.groupby('District')['Domestic'].sum()"
   ]
  },
  {
   "cell_type": "code",
   "execution_count": 25,
   "id": "70d6d213",
   "metadata": {},
   "outputs": [
    {
     "data": {
      "text/plain": [
       "Year\n",
       "2012.0    36084\n",
       "2013.0       34\n",
       "2014.0       46\n",
       "2015.0    14791\n",
       "2016.0     4704\n",
       "Name: Arrest, dtype: object"
      ]
     },
     "execution_count": 25,
     "metadata": {},
     "output_type": "execute_result"
    }
   ],
   "source": [
    "df.groupby('Year')['Arrest'].sum()\n"
   ]
  },
  {
   "cell_type": "code",
   "execution_count": 26,
   "id": "363031ab",
   "metadata": {},
   "outputs": [
    {
     "data": {
      "text/plain": [
       "Location Description\n",
       "ABANDONED BUILDING                                  298\n",
       "AIRCRAFT                                              4\n",
       "AIRPORT BUILDING NON-TERMINAL - NON-SECURE AREA      14\n",
       "AIRPORT BUILDING NON-TERMINAL - SECURE AREA           8\n",
       "AIRPORT EXTERIOR - NON-SECURE AREA                   18\n",
       "                                                   ... \n",
       "VEHICLE - OTHER RIDE SERVICE                          0\n",
       "VEHICLE NON-COMMERCIAL                             1273\n",
       "VEHICLE-COMMERCIAL                                   32\n",
       "WAREHOUSE                                            34\n",
       "YARD                                                  0\n",
       "Name: Arrest, Length: 107, dtype: object"
      ]
     },
     "execution_count": 26,
     "metadata": {},
     "output_type": "execute_result"
    }
   ],
   "source": [
    "df.groupby('Location Description')['Arrest'].sum()"
   ]
  },
  {
   "cell_type": "code",
   "execution_count": 27,
   "id": "40a58a1d",
   "metadata": {},
   "outputs": [
    {
     "data": {
      "text/plain": [
       "Community Area\n",
       "0.0     False\n",
       "1.0       871\n",
       "2.0       491\n",
       "3.0       809\n",
       "4.0       291\n",
       "        ...  \n",
       "73.0      581\n",
       "74.0       49\n",
       "75.0      388\n",
       "76.0      292\n",
       "77.0      418\n",
       "Name: Arrest, Length: 78, dtype: object"
      ]
     },
     "execution_count": 27,
     "metadata": {},
     "output_type": "execute_result"
    }
   ],
   "source": [
    "df.groupby('Community Area')['Arrest'].sum()\n"
   ]
  },
  {
   "cell_type": "code",
   "execution_count": 28,
   "id": "abeda4f6",
   "metadata": {},
   "outputs": [
    {
     "data": {
      "text/plain": [
       "FBI Code\n",
       "01A       16\n",
       "01B        2\n",
       "04A      951\n",
       "04B      920\n",
       "08A     2024\n",
       "08B     7293\n",
       "10       117\n",
       "11      1107\n",
       "12         4\n",
       "13        35\n",
       "14      1463\n",
       "15      1918\n",
       "16      1344\n",
       "17       165\n",
       "18     21043\n",
       "19       218\n",
       "2        118\n",
       "20       169\n",
       "22       325\n",
       "24      2041\n",
       "26      7412\n",
       "3        733\n",
       "5        617\n",
       "6       5024\n",
       "7        567\n",
       "9         33\n",
       "Name: Arrest, dtype: object"
      ]
     },
     "execution_count": 28,
     "metadata": {},
     "output_type": "execute_result"
    }
   ],
   "source": [
    "df.groupby('FBI Code')['Arrest'].sum()"
   ]
  },
  {
   "cell_type": "markdown",
   "id": "4827689e",
   "metadata": {},
   "source": [
    "# Cross Tabulation"
   ]
  },
  {
   "cell_type": "code",
   "execution_count": 29,
   "id": "f8bc831d",
   "metadata": {},
   "outputs": [
    {
     "data": {
      "text/html": [
       "<div>\n",
       "<style scoped>\n",
       "    .dataframe tbody tr th:only-of-type {\n",
       "        vertical-align: middle;\n",
       "    }\n",
       "\n",
       "    .dataframe tbody tr th {\n",
       "        vertical-align: top;\n",
       "    }\n",
       "\n",
       "    .dataframe thead th {\n",
       "        text-align: right;\n",
       "    }\n",
       "</style>\n",
       "<table border=\"1\" class=\"dataframe\">\n",
       "  <thead>\n",
       "    <tr style=\"text-align: right;\">\n",
       "      <th>Arrest</th>\n",
       "      <th>False</th>\n",
       "      <th>True</th>\n",
       "    </tr>\n",
       "    <tr>\n",
       "      <th>Year</th>\n",
       "      <th></th>\n",
       "      <th></th>\n",
       "    </tr>\n",
       "  </thead>\n",
       "  <tbody>\n",
       "    <tr>\n",
       "      <th>2012.0</th>\n",
       "      <td>86735</td>\n",
       "      <td>36084</td>\n",
       "    </tr>\n",
       "    <tr>\n",
       "      <th>2013.0</th>\n",
       "      <td>183</td>\n",
       "      <td>34</td>\n",
       "    </tr>\n",
       "    <tr>\n",
       "      <th>2014.0</th>\n",
       "      <td>487</td>\n",
       "      <td>46</td>\n",
       "    </tr>\n",
       "    <tr>\n",
       "      <th>2015.0</th>\n",
       "      <td>31824</td>\n",
       "      <td>14791</td>\n",
       "    </tr>\n",
       "    <tr>\n",
       "      <th>2016.0</th>\n",
       "      <td>17601</td>\n",
       "      <td>4704</td>\n",
       "    </tr>\n",
       "  </tbody>\n",
       "</table>\n",
       "</div>"
      ],
      "text/plain": [
       "Arrest  False   True\n",
       "Year                \n",
       "2012.0  86735  36084\n",
       "2013.0    183     34\n",
       "2014.0    487     46\n",
       "2015.0  31824  14791\n",
       "2016.0  17601   4704"
      ]
     },
     "execution_count": 29,
     "metadata": {},
     "output_type": "execute_result"
    }
   ],
   "source": [
    "pd.crosstab(df['Year'], df['Arrest'])"
   ]
  },
  {
   "cell_type": "code",
   "execution_count": 31,
   "id": "79ec2d45",
   "metadata": {},
   "outputs": [
    {
     "data": {
      "text/html": [
       "<div>\n",
       "<style scoped>\n",
       "    .dataframe tbody tr th:only-of-type {\n",
       "        vertical-align: middle;\n",
       "    }\n",
       "\n",
       "    .dataframe tbody tr th {\n",
       "        vertical-align: top;\n",
       "    }\n",
       "\n",
       "    .dataframe thead th {\n",
       "        text-align: right;\n",
       "    }\n",
       "</style>\n",
       "<table border=\"1\" class=\"dataframe\">\n",
       "  <thead>\n",
       "    <tr style=\"text-align: right;\">\n",
       "      <th>Arrest</th>\n",
       "      <th>False</th>\n",
       "      <th>True</th>\n",
       "    </tr>\n",
       "    <tr>\n",
       "      <th>Primary Type</th>\n",
       "      <th></th>\n",
       "      <th></th>\n",
       "    </tr>\n",
       "  </thead>\n",
       "  <tbody>\n",
       "    <tr>\n",
       "      <th>ARSON</th>\n",
       "      <td>255</td>\n",
       "      <td>33</td>\n",
       "    </tr>\n",
       "    <tr>\n",
       "      <th>ASSAULT</th>\n",
       "      <td>9329</td>\n",
       "      <td>2956</td>\n",
       "    </tr>\n",
       "    <tr>\n",
       "      <th>BATTERY</th>\n",
       "      <td>27290</td>\n",
       "      <td>8213</td>\n",
       "    </tr>\n",
       "    <tr>\n",
       "      <th>BURGLARY</th>\n",
       "      <td>10260</td>\n",
       "      <td>617</td>\n",
       "    </tr>\n",
       "    <tr>\n",
       "      <th>CONCEALED CARRY LICENSE VIOLATION</th>\n",
       "      <td>0</td>\n",
       "      <td>4</td>\n",
       "    </tr>\n",
       "    <tr>\n",
       "      <th>CRIM SEXUAL ASSAULT</th>\n",
       "      <td>655</td>\n",
       "      <td>105</td>\n",
       "    </tr>\n",
       "    <tr>\n",
       "      <th>CRIMINAL DAMAGE</th>\n",
       "      <td>19125</td>\n",
       "      <td>1463</td>\n",
       "    </tr>\n",
       "    <tr>\n",
       "      <th>CRIMINAL TRESPASS</th>\n",
       "      <td>1295</td>\n",
       "      <td>3784</td>\n",
       "    </tr>\n",
       "    <tr>\n",
       "      <th>DECEPTIVE PRACTICE</th>\n",
       "      <td>6690</td>\n",
       "      <td>1263</td>\n",
       "    </tr>\n",
       "    <tr>\n",
       "      <th>GAMBLING</th>\n",
       "      <td>0</td>\n",
       "      <td>217</td>\n",
       "    </tr>\n",
       "    <tr>\n",
       "      <th>HOMICIDE</th>\n",
       "      <td>50</td>\n",
       "      <td>18</td>\n",
       "    </tr>\n",
       "    <tr>\n",
       "      <th>HUMAN TRAFFICKING</th>\n",
       "      <td>2</td>\n",
       "      <td>0</td>\n",
       "    </tr>\n",
       "    <tr>\n",
       "      <th>INTERFERENCE WITH PUBLIC OFFICER</th>\n",
       "      <td>42</td>\n",
       "      <td>783</td>\n",
       "    </tr>\n",
       "    <tr>\n",
       "      <th>INTIMIDATION</th>\n",
       "      <td>65</td>\n",
       "      <td>25</td>\n",
       "    </tr>\n",
       "    <tr>\n",
       "      <th>KIDNAPPING</th>\n",
       "      <td>120</td>\n",
       "      <td>9</td>\n",
       "    </tr>\n",
       "    <tr>\n",
       "      <th>LIQUOR LAW VIOLATION</th>\n",
       "      <td>1</td>\n",
       "      <td>325</td>\n",
       "    </tr>\n",
       "    <tr>\n",
       "      <th>MOTOR VEHICLE THEFT</th>\n",
       "      <td>8282</td>\n",
       "      <td>567</td>\n",
       "    </tr>\n",
       "    <tr>\n",
       "      <th>NARCOTICS</th>\n",
       "      <td>44</td>\n",
       "      <td>22093</td>\n",
       "    </tr>\n",
       "    <tr>\n",
       "      <th>NON - CRIMINAL</th>\n",
       "      <td>2</td>\n",
       "      <td>0</td>\n",
       "    </tr>\n",
       "    <tr>\n",
       "      <th>NON-CRIMINAL</th>\n",
       "      <td>6</td>\n",
       "      <td>0</td>\n",
       "    </tr>\n",
       "    <tr>\n",
       "      <th>OBSCENITY</th>\n",
       "      <td>3</td>\n",
       "      <td>17</td>\n",
       "    </tr>\n",
       "    <tr>\n",
       "      <th>OFFENSE INVOLVING CHILDREN</th>\n",
       "      <td>1123</td>\n",
       "      <td>267</td>\n",
       "    </tr>\n",
       "    <tr>\n",
       "      <th>OTHER NARCOTIC VIOLATION</th>\n",
       "      <td>1</td>\n",
       "      <td>0</td>\n",
       "    </tr>\n",
       "    <tr>\n",
       "      <th>OTHER OFFENSE</th>\n",
       "      <td>9279</td>\n",
       "      <td>2371</td>\n",
       "    </tr>\n",
       "    <tr>\n",
       "      <th>PROSTITUTION</th>\n",
       "      <td>5</td>\n",
       "      <td>1344</td>\n",
       "    </tr>\n",
       "    <tr>\n",
       "      <th>PUBLIC INDECENCY</th>\n",
       "      <td>0</td>\n",
       "      <td>9</td>\n",
       "    </tr>\n",
       "    <tr>\n",
       "      <th>PUBLIC PEACE VIOLATION</th>\n",
       "      <td>428</td>\n",
       "      <td>1342</td>\n",
       "    </tr>\n",
       "    <tr>\n",
       "      <th>ROBBERY</th>\n",
       "      <td>6143</td>\n",
       "      <td>733</td>\n",
       "    </tr>\n",
       "    <tr>\n",
       "      <th>SEX OFFENSE</th>\n",
       "      <td>422</td>\n",
       "      <td>137</td>\n",
       "    </tr>\n",
       "    <tr>\n",
       "      <th>STALKING</th>\n",
       "      <td>88</td>\n",
       "      <td>26</td>\n",
       "    </tr>\n",
       "    <tr>\n",
       "      <th>THEFT</th>\n",
       "      <td>35366</td>\n",
       "      <td>5024</td>\n",
       "    </tr>\n",
       "    <tr>\n",
       "      <th>WEAPONS VIOLATION</th>\n",
       "      <td>459</td>\n",
       "      <td>1914</td>\n",
       "    </tr>\n",
       "  </tbody>\n",
       "</table>\n",
       "</div>"
      ],
      "text/plain": [
       "Arrest                             False   True\n",
       "Primary Type                                   \n",
       "ARSON                                255     33\n",
       "ASSAULT                             9329   2956\n",
       "BATTERY                            27290   8213\n",
       "BURGLARY                           10260    617\n",
       "CONCEALED CARRY LICENSE VIOLATION      0      4\n",
       "CRIM SEXUAL ASSAULT                  655    105\n",
       "CRIMINAL DAMAGE                    19125   1463\n",
       "CRIMINAL TRESPASS                   1295   3784\n",
       "DECEPTIVE PRACTICE                  6690   1263\n",
       "GAMBLING                               0    217\n",
       "HOMICIDE                              50     18\n",
       "HUMAN TRAFFICKING                      2      0\n",
       "INTERFERENCE WITH PUBLIC OFFICER      42    783\n",
       "INTIMIDATION                          65     25\n",
       "KIDNAPPING                           120      9\n",
       "LIQUOR LAW VIOLATION                   1    325\n",
       "MOTOR VEHICLE THEFT                 8282    567\n",
       "NARCOTICS                             44  22093\n",
       "NON - CRIMINAL                         2      0\n",
       "NON-CRIMINAL                           6      0\n",
       "OBSCENITY                              3     17\n",
       "OFFENSE INVOLVING CHILDREN          1123    267\n",
       "OTHER NARCOTIC VIOLATION               1      0\n",
       "OTHER OFFENSE                       9279   2371\n",
       "PROSTITUTION                           5   1344\n",
       "PUBLIC INDECENCY                       0      9\n",
       "PUBLIC PEACE VIOLATION               428   1342\n",
       "ROBBERY                             6143    733\n",
       "SEX OFFENSE                          422    137\n",
       "STALKING                              88     26\n",
       "THEFT                              35366   5024\n",
       "WEAPONS VIOLATION                    459   1914"
      ]
     },
     "execution_count": 31,
     "metadata": {},
     "output_type": "execute_result"
    }
   ],
   "source": [
    "pd.crosstab(df['Primary Type'], df['Arrest'])\n"
   ]
  },
  {
   "cell_type": "code",
   "execution_count": 32,
   "id": "bc53134c",
   "metadata": {},
   "outputs": [
    {
     "data": {
      "text/html": [
       "<div>\n",
       "<style scoped>\n",
       "    .dataframe tbody tr th:only-of-type {\n",
       "        vertical-align: middle;\n",
       "    }\n",
       "\n",
       "    .dataframe tbody tr th {\n",
       "        vertical-align: top;\n",
       "    }\n",
       "\n",
       "    .dataframe thead th {\n",
       "        text-align: right;\n",
       "    }\n",
       "</style>\n",
       "<table border=\"1\" class=\"dataframe\">\n",
       "  <thead>\n",
       "    <tr style=\"text-align: right;\">\n",
       "      <th>Arrest</th>\n",
       "      <th>False</th>\n",
       "      <th>True</th>\n",
       "    </tr>\n",
       "    <tr>\n",
       "      <th>Location Description</th>\n",
       "      <th></th>\n",
       "      <th></th>\n",
       "    </tr>\n",
       "  </thead>\n",
       "  <tbody>\n",
       "    <tr>\n",
       "      <th>ABANDONED BUILDING</th>\n",
       "      <td>214</td>\n",
       "      <td>298</td>\n",
       "    </tr>\n",
       "    <tr>\n",
       "      <th>AIRCRAFT</th>\n",
       "      <td>29</td>\n",
       "      <td>4</td>\n",
       "    </tr>\n",
       "    <tr>\n",
       "      <th>AIRPORT BUILDING NON-TERMINAL - NON-SECURE AREA</th>\n",
       "      <td>47</td>\n",
       "      <td>14</td>\n",
       "    </tr>\n",
       "    <tr>\n",
       "      <th>AIRPORT BUILDING NON-TERMINAL - SECURE AREA</th>\n",
       "      <td>35</td>\n",
       "      <td>8</td>\n",
       "    </tr>\n",
       "    <tr>\n",
       "      <th>AIRPORT EXTERIOR - NON-SECURE AREA</th>\n",
       "      <td>36</td>\n",
       "      <td>18</td>\n",
       "    </tr>\n",
       "    <tr>\n",
       "      <th>...</th>\n",
       "      <td>...</td>\n",
       "      <td>...</td>\n",
       "    </tr>\n",
       "    <tr>\n",
       "      <th>VEHICLE - OTHER RIDE SERVICE</th>\n",
       "      <td>9</td>\n",
       "      <td>0</td>\n",
       "    </tr>\n",
       "    <tr>\n",
       "      <th>VEHICLE NON-COMMERCIAL</th>\n",
       "      <td>1955</td>\n",
       "      <td>1273</td>\n",
       "    </tr>\n",
       "    <tr>\n",
       "      <th>VEHICLE-COMMERCIAL</th>\n",
       "      <td>128</td>\n",
       "      <td>32</td>\n",
       "    </tr>\n",
       "    <tr>\n",
       "      <th>WAREHOUSE</th>\n",
       "      <td>147</td>\n",
       "      <td>34</td>\n",
       "    </tr>\n",
       "    <tr>\n",
       "      <th>YARD</th>\n",
       "      <td>2</td>\n",
       "      <td>0</td>\n",
       "    </tr>\n",
       "  </tbody>\n",
       "</table>\n",
       "<p>107 rows × 2 columns</p>\n",
       "</div>"
      ],
      "text/plain": [
       "Arrest                                           False  True\n",
       "Location Description                                        \n",
       "ABANDONED BUILDING                                 214   298\n",
       "AIRCRAFT                                            29     4\n",
       "AIRPORT BUILDING NON-TERMINAL - NON-SECURE AREA     47    14\n",
       "AIRPORT BUILDING NON-TERMINAL - SECURE AREA         35     8\n",
       "AIRPORT EXTERIOR - NON-SECURE AREA                  36    18\n",
       "...                                                ...   ...\n",
       "VEHICLE - OTHER RIDE SERVICE                         9     0\n",
       "VEHICLE NON-COMMERCIAL                            1955  1273\n",
       "VEHICLE-COMMERCIAL                                 128    32\n",
       "WAREHOUSE                                          147    34\n",
       "YARD                                                 2     0\n",
       "\n",
       "[107 rows x 2 columns]"
      ]
     },
     "execution_count": 32,
     "metadata": {},
     "output_type": "execute_result"
    }
   ],
   "source": [
    "pd.crosstab(df['Location Description'], df['Arrest'])\n"
   ]
  },
  {
   "cell_type": "markdown",
   "id": "61c690df",
   "metadata": {},
   "source": [
    "# Visualization"
   ]
  },
  {
   "cell_type": "code",
   "execution_count": 34,
   "id": "c2ab3677",
   "metadata": {},
   "outputs": [
    {
     "data": {
      "image/png": "[encoded data removed]",
      "text/plain": [
       "<Figure size 720x432 with 1 Axes>"
      ]
     },
     "metadata": {
      "needs_background": "light"
     },
     "output_type": "display_data"
    }
   ],
   "source": [
    "import matplotlib.pyplot as plt\n",
    "\n",
    "\n",
    "df['Date'] = pd.to_datetime(df['Date'])\n",
    "df['Year'] = df['Date'].dt.year\n",
    "crime_count_yearly = df.groupby('Year').size()\n",
    "crime_count_yearly.plot(kind='line', figsize=(10, 6))\n",
    "plt.title('Frequency of Crimes Over Time')\n",
    "plt.xlabel('Year')\n",
    "plt.ylabel('Frequency')\n",
    "plt.show()\n"
   ]
  },
  {
   "cell_type": "code",
   "execution_count": 36,
   "id": "55e0a365",
   "metadata": {},
   "outputs": [
    {
     "data": {
      "image/png": "[encoded data removed]",
      "text/plain": [
       "<Figure size 720x432 with 1 Axes>"
      ]
     },
     "metadata": {
      "needs_background": "light"
     },
     "output_type": "display_data"
    }
   ],
   "source": [
    "arrest_rate_yearly = df.groupby('Year')['Arrest'].mean()\n",
    "arrest_rate_yearly.plot(kind='line', figsize=(10, 6))\n",
    "plt.title('Arrest Rate Over Time')\n",
    "plt.xlabel('Year')\n",
    "plt.ylabel('Arrest Rate')\n",
    "plt.show()\n",
    "\n"
   ]
  },
  {
   "cell_type": "code",
   "execution_count": 35,
   "id": "2c6423fa",
   "metadata": {},
   "outputs": [
    {
     "data": {
      "image/png": "[encoded data removed]",
      "text/plain": [
       "<Figure size 720x432 with 1 Axes>"
      ]
     },
     "metadata": {
      "needs_background": "light"
     },
     "output_type": "display_data"
    }
   ],
   "source": [
    "df['Primary Type'].value_counts().plot(kind='bar', figsize=(10, 6))\n",
    "plt.title('Frequency of Crime Types')\n",
    "plt.xlabel('Crime Type')\n",
    "plt.ylabel('Frequency')\n",
    "plt.show()\n"
   ]
  },
  {
   "cell_type": "code",
   "execution_count": 36,
   "id": "60d7af78",
   "metadata": {},
   "outputs": [
    {
     "data": {
      "image/png": "[encoded data removed]",
      "text/plain": [
       "<Figure size 576x576 with 1 Axes>"
      ]
     },
     "metadata": {},
     "output_type": "display_data"
    }
   ],
   "source": [
    "# Distribution of Arrests (Pie Chart):\n",
    "plt.figure(figsize=(8, 8))\n",
    "df['Arrest'].value_counts().plot(kind='pie', autopct='%1.1f%%')\n",
    "plt.title('Distribution of Arrests')\n",
    "plt.show()\n"
   ]
  },
  {
   "cell_type": "code",
   "execution_count": 37,
   "id": "7ea6797e",
   "metadata": {},
   "outputs": [
    {
     "data": {
      "image/png": "[encoded data removed]",
      "text/plain": [
       "<Figure size 576x432 with 1 Axes>"
      ]
     },
     "metadata": {
      "needs_background": "light"
     },
     "output_type": "display_data"
    }
   ],
   "source": [
    "# Distribution of Domestic vs. Non-Domestic Crimes (Bar Plot):\n",
    "# Plot\n",
    "plt.figure(figsize=(8, 6))\n",
    "df['Domestic'].value_counts().plot(kind='bar', rot=0)\n",
    "plt.title('Distribution of Domestic vs. Non-Domestic Crimes')\n",
    "plt.xlabel('Domestic')\n",
    "plt.ylabel('Frequency')\n",
    "plt.xticks(ticks=[0, 1], labels=['Non-Domestic', 'Domestic'])\n",
    "plt.show()\n"
   ]
  },
  {
   "cell_type": "code",
   "execution_count": 38,
   "id": "4187949e",
   "metadata": {},
   "outputs": [
    {
     "data": {
      "image/png": "[encoded data removed]",
      "text/plain": [
       "<Figure size 720x576 with 1 Axes>"
      ]
     },
     "metadata": {
      "needs_background": "light"
     },
     "output_type": "display_data"
    }
   ],
   "source": [
    "#Distribution of Crime Locations (Horizontal Bar Plot):\n",
    "# Plot\n",
    "plt.figure(figsize=(10, 8))\n",
    "df['Location Description'].value_counts().nlargest(10).sort_values().plot(kind='barh')\n",
    "plt.title('Top 10 Crime Locations')\n",
    "plt.xlabel('Frequency')\n",
    "plt.ylabel('Location Description')\n",
    "plt.show()\n"
   ]
  },
  {
   "cell_type": "code",
   "execution_count": 41,
   "id": "1fd92f23",
   "metadata": {},
   "outputs": [
    {
     "data": {
      "image/png": "[encoded data removed]",
      "text/plain": [
       "<Figure size 864x432 with 1 Axes>"
      ]
     },
     "metadata": {
      "needs_background": "light"
     },
     "output_type": "display_data"
    }
   ],
   "source": [
    "#Crime Frequency by District (Bar Plot):\n",
    "plt.figure(figsize=(12, 6))\n",
    "df['District'].value_counts().plot(kind='bar')\n",
    "plt.title('Crime Frequency by District')\n",
    "plt.xlabel('District')\n",
    "plt.ylabel('Frequency')\n",
    "plt.show()"
   ]
  },
  {
   "cell_type": "code",
   "execution_count": 39,
   "id": "68a502c0",
   "metadata": {},
   "outputs": [
    {
     "data": {
      "image/png": "[encoded data removed]",
      "text/plain": [
       "<Figure size 720x432 with 1 Axes>"
      ]
     },
     "metadata": {
      "needs_background": "light"
     },
     "output_type": "display_data"
    }
   ],
   "source": [
    "\n",
    "df['Date'] = pd.to_datetime(df['Date'])\n",
    "df['Month'] = df['Date'].dt.month_name()\n",
    "\n",
    "# Plot\n",
    "plt.figure(figsize=(10, 6))\n",
    "df['Month'].value_counts().sort_index().plot(kind='bar')\n",
    "plt.title('Distribution of Crimes by Month')\n",
    "plt.xlabel('Month')\n",
    "plt.ylabel('Frequency')\n",
    "plt.xticks(rotation=45)\n",
    "plt.show()\n",
    "\n"
   ]
  },
  {
   "cell_type": "code",
   "execution_count": 40,
   "id": "cb2bfefb",
   "metadata": {},
   "outputs": [
    {
     "data": {
      "text/plain": [
       "<Figure size 720x720 with 0 Axes>"
      ]
     },
     "metadata": {},
     "output_type": "display_data"
    },
    {
     "data": {
      "image/png": "[encoded data removed]",
      "text/plain": [
       "<Figure size 432x288 with 1 Axes>"
      ]
     },
     "metadata": {
      "needs_background": "light"
     },
     "output_type": "display_data"
    }
   ],
   "source": [
    "import matplotlib.pyplot as plt\n",
    "top_primary_types = df['Primary Type'].value_counts().nlargest(7).index\n",
    "\n",
    "crime_arrest_top5 = df[df['Primary Type'].isin(top_primary_types)]\n",
    "\n",
    "cross_tab = pd.crosstab(crime_arrest_top5['Primary Type'], crime_arrest_top5['Arrest'])\n",
    "\n",
    "plt.figure(figsize=(10, 10))\n",
    "cross_tab.plot(kind='bar', stacked=True)\n",
    "plt.title('Distribution of Top 5 Crime Types by Arrest Status')\n",
    "plt.xlabel('Primary Type')\n",
    "plt.ylabel('Frequency')\n",
    "plt.legend(title='Arrest Status')\n",
    "plt.show()"
   ]
  },
  {
   "cell_type": "code",
   "execution_count": 42,
   "id": "936067de",
   "metadata": {},
   "outputs": [
    {
     "data": {
      "image/png": "[encoded data removed]",
      "text/plain": [
       "<Figure size 720x432 with 1 Axes>"
      ]
     },
     "metadata": {
      "needs_background": "light"
     },
     "output_type": "display_data"
    }
   ],
   "source": [
    "plt.figure(figsize=(10, 6))\n",
    "sns.lineplot(x='Year', y='Domestic', data=df)\n",
    "plt.title('Trend of Domestic vs. Non-Domestic Crimes Over Years')\n",
    "plt.xlabel('Year')\n",
    "plt.ylabel('Domestic Rate')\n",
    "plt.show()\n"
   ]
  },
  {
   "cell_type": "code",
   "execution_count": 44,
   "id": "59e252f4",
   "metadata": {},
   "outputs": [
    {
     "data": {
      "image/png": "[encoded data removed]",
      "text/plain": [
       "<Figure size 720x576 with 1 Axes>"
      ]
     },
     "metadata": {
      "needs_background": "light"
     },
     "output_type": "display_data"
    }
   ],
   "source": [
    "plt.figure(figsize=(10, 8))\n",
    "plt.scatter(df['Longitude'], df['Latitude'], alpha=0.1, color='red')\n",
    "plt.title('Location of Crimes')\n",
    "plt.xlabel('Longitude')\n",
    "plt.ylabel('Latitude')\n",
    "plt.grid(True)\n",
    "plt.show()\n",
    "\n",
    "#The scatter plot displays the locations of crimes based on latitude and longitude. Each point represents a single crime incident. The dark shade color in the top-right corner indicates a higher concentration of crime incidents in that particular area."
   ]
  },
  {
   "cell_type": "code",
   "execution_count": 45,
   "id": "66f82c67",
   "metadata": {},
   "outputs": [
    {
     "data": {
      "image/png": "[encoded data removed]",
      "text/plain": [
       "<Figure size 864x432 with 1 Axes>"
      ]
     },
     "metadata": {
      "needs_background": "light"
     },
     "output_type": "display_data"
    }
   ],
   "source": [
    "plt.figure(figsize=(12, 6))\n",
    "df['FBI Code'].value_counts().plot(kind='bar', color='orange')\n",
    "plt.title('Crime Frequency by FBI Code')\n",
    "plt.xlabel('FBI Code')\n",
    "plt.ylabel('Frequency')\n",
    "plt.xticks(rotation=45)\n",
    "plt.show()\n"
   ]
  },
  {
   "cell_type": "code",
   "execution_count": null,
   "id": "17a54790",
   "metadata": {},
   "outputs": [],
   "source": []
  },
  {
   "cell_type": "code",
   "execution_count": null,
   "id": "123b7343",
   "metadata": {},
   "outputs": [],
   "source": []
  }
 ],
 "metadata": {
  "kernelspec": {
   "display_name": "Python 3 (ipykernel)",
   "language": "python",
   "name": "python3"
  },
  "language_info": {
   "codemirror_mode": {
    "name": "ipython",
    "version": 3
   },
   "file_extension": ".py",
   "mimetype": "text/x-python",
   "name": "python",
   "nbconvert_exporter": "python",
   "pygments_lexer": "ipython3",
   "version": "3.10.2"
  }
 },
 "nbformat": 4,
 "nbformat_minor": 5
}
